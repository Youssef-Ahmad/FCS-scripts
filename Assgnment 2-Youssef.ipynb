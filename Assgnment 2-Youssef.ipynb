{
 "cells": [
  {
   "cell_type": "markdown",
   "id": "52d26d76-42a0-4e31-8629-bbb20de8183b",
   "metadata": {},
   "source": [
    "1. Write a program that takes two integers from the user and outputs the range of values from this list\n",
    "list1 = [54,76,2,4,98,100]\n",
    "Ex: int1=20, int2=80. The program would print:\n",
    "54\n",
    "76"
   ]
  },
  {
   "cell_type": "code",
   "execution_count": null,
   "id": "37799449-5191-4e24-bd66-c095e97d3873",
   "metadata": {},
   "outputs": [],
   "source": [
    "list1=[54,76,4,98,100]\n",
    "int1=int(input(\"Enter first number\"))\n",
    "int2=int(input(\"Enter Second number\"))\n",
    "\n",
    "for i in range(0,len(list1)):\n",
    "    if (list1[i]>int1 and list1[i]<int2):\n",
    "        print(list1[i])"
   ]
  },
  {
   "cell_type": "markdown",
   "id": "4e94b1a7-163c-4043-9777-9c74428a6860",
   "metadata": {},
   "source": [
    "2. Write a program that repeatedly asks the user for a letter, and then prints all the names in this list that\n",
    "contain that letter.\n",
    "Names = [“Maria”, ”Hala”, ”Ghady”, ”Ehsan”, ”Joe”, ”Zoe”]\n",
    "Ex: letter=a, the program would output\n",
    "Maria\n",
    "Hala\n",
    "Ghady\n",
    "Ehsan"
   ]
  },
  {
   "cell_type": "code",
   "execution_count": null,
   "id": "cb20cb78-ca37-4c27-9833-55abfdc5dbc6",
   "metadata": {},
   "outputs": [],
   "source": [
    "namesList=[\"Maria\",\"Hala\",\"Ghady\",\"Ehsan\",\"Joe\",\"Zoe\"]\n",
    "letter=str(input(\"enter a letter\"))\n",
    "\n",
    "for i in namesList:\n",
    "    if letter.lower() in i.lower():\n",
    "        print(i)"
   ]
  },
  {
   "cell_type": "markdown",
   "id": "b33fc798-8096-437e-9f00-426e933d2ef9",
   "metadata": {},
   "source": [
    "3. Given this list: numbers = [-12, 4, 12, 25, 67], write a program that repeatedly asks the user to input a number, and then insert that number in its correct position in the list. And then print the list. Keep asking the user to input a number until they input the value -99.\n",
    "For example: if the user inputs 2, the list will become numbers = [-12, 2, 4, 12, 25, 67]\n",
    "If the user then inputs 88, the list will become numbers = [-12, 2, 4, 12, 25, 67, 88]"
   ]
  },
  {
   "cell_type": "code",
   "execution_count": 4,
   "id": "8045b6fc-32a0-4395-bdf3-f825145ab923",
   "metadata": {},
   "outputs": [
    {
     "name": "stdin",
     "output_type": "stream",
     "text": [
      "Enter a number to add or (-99) to quit:  22\n"
     ]
    },
    {
     "name": "stdout",
     "output_type": "stream",
     "text": [
      "The list is [-12, 4, 12, 22, 25, 67]\n"
     ]
    },
    {
     "name": "stdin",
     "output_type": "stream",
     "text": [
      "Enter a number to add or (-99) to quit:  22\n"
     ]
    },
    {
     "name": "stdout",
     "output_type": "stream",
     "text": [
      "The list is [-12, 4, 12, 22, 22, 25, 67]\n"
     ]
    },
    {
     "name": "stdin",
     "output_type": "stream",
     "text": [
      "Enter a number to add or (-99) to quit:  67\n"
     ]
    },
    {
     "name": "stdout",
     "output_type": "stream",
     "text": [
      "The list is [-12, 4, 12, 22, 22, 25, 67, 67]\n"
     ]
    },
    {
     "name": "stdin",
     "output_type": "stream",
     "text": [
      "Enter a number to add or (-99) to quit:  -99\n"
     ]
    },
    {
     "name": "stdout",
     "output_type": "stream",
     "text": [
      "The list is [-12, 4, 12, 22, 22, 25, 67, 67]\n"
     ]
    }
   ],
   "source": [
    "list1 = [-12,4,12,25,67]\n",
    "\n",
    "while True:\n",
    "  nb = int(input(\"Enter a number to add or (-99) to quit: \"))\n",
    "  \n",
    "  if nb==-99:\n",
    "    print(\"The list is\",list1)\n",
    "    break\n",
    "  \n",
    "  else:\n",
    "    i=0\n",
    "    while i <len(list1) and nb > list1[i]:\n",
    "      i+=1\n",
    "    list1.insert(i,nb)\n",
    "    print(\"The list is\",list1)"
   ]
  },
  {
   "cell_type": "markdown",
   "id": "da30e113-29b4-4e4c-9e57-b8c9f222d29a",
   "metadata": {},
   "source": [
    "4. Given this string\n",
    "Ask the user for two integer values and print the slice of words that fall between these numbers. Make sure these numbers are valid and will not cause errors or weird outputs.\n",
    "Example: int1=3 int2=6 The output would be: this \n"
   ]
  },
  {
   "cell_type": "code",
   "execution_count": 6,
   "id": "c5fbffa2-ff9e-41da-bf89-01f0e9fd4a2c",
   "metadata": {},
   "outputs": [
    {
     "name": "stdin",
     "output_type": "stream",
     "text": [
      "Enter the start index:  3\n",
      "Enter the end index:  6\n"
     ]
    },
    {
     "name": "stdout",
     "output_type": "stream",
     "text": [
      "Sliced word: this\n"
     ]
    }
   ],
   "source": [
    "words = \"Is this the real life? Is this just fantasy? Caught in a landslide, no escape from reality Open your eyes, look up to the skies and see I'm just a poor boy, I need no sympathy Because I'm easy come, easy go, little high, little low Any way the wind blows doesn't really matter to me, to me Mama, just killed a man Put a gun against his head, pulled my trigger, now he's dead Mama, life had just begun But now I've gone and thrown it all away Mama, ooh, didn't mean to make you cry If I'm not back again this time tomorrow Carry on, carry on as if nothing really matters Too late, my time has come Sends shivers down my spine, body's aching all the time Goodbye, everybody, I've got to go Gotta leave you all behind and face the truth Mama, ooh (any way the wind blows) I don't wanna die I sometimes wish I'd never been born at all I see a little silhouetto of a man Scaramouche, Scaramouche, will you do the Fandango? Thunderbolt and lightning, very, very frightening me (Galileo) Galileo, (Galileo) Galileo, Galileo Figaro, magnifico But I'm just a poor boy, nobody loves me He's just a poor boy from a poor family Spare him his life from this monstrosity.\"\n",
    "words_list = words.split()\n",
    "\n",
    "int1 = int(input(\"Enter the start index: \"))\n",
    "int2 = int(input(\"Enter the end index: \"))\n",
    "\n",
    "if int1 >= 0 and int2 < len(words_list) and int1 <= int2:\n",
    "    sliced_word = words_list[int2]\n",
    "    print(\"Sliced word:\", sliced_word)\n",
    "else:\n",
    "    print(\"Invalid indices\")"
   ]
  },
  {
   "cell_type": "code",
   "execution_count": null,
   "id": "df9ad71b-15e1-48d0-a21e-605fe03f43d0",
   "metadata": {},
   "outputs": [],
   "source": []
  }
 ],
 "metadata": {
  "kernelspec": {
   "display_name": "Python 3 (ipykernel)",
   "language": "python",
   "name": "python3"
  },
  "language_info": {
   "codemirror_mode": {
    "name": "ipython",
    "version": 3
   },
   "file_extension": ".py",
   "mimetype": "text/x-python",
   "name": "python",
   "nbconvert_exporter": "python",
   "pygments_lexer": "ipython3",
   "version": "3.12.4"
  }
 },
 "nbformat": 4,
 "nbformat_minor": 5
}
